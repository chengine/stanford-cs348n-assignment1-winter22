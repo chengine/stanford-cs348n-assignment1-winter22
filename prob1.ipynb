{
 "cells": [
  {
   "cell_type": "markdown",
   "metadata": {},
   "source": [
    "# Problem 1"
   ]
  },
  {
   "cell_type": "markdown",
   "metadata": {},
   "source": [
    "## (a) "
   ]
  },
  {
   "cell_type": "code",
   "execution_count": 14,
   "metadata": {},
   "outputs": [],
   "source": [
    "import numpy as np\n",
    "from utils import load_obj, load_ply, load_binvox\n",
    "\n",
    "# STUDENT CODE START\n",
    "# load obj: chair_example.obj\n",
    "\n",
    "# load ply: chair_example.ply\n",
    "\n",
    "# load binvox: chair_example.binvox\n",
    "\n",
    "# STUDENT CODE END"
   ]
  },
  {
   "cell_type": "markdown",
   "metadata": {},
   "source": [
    "## (b)"
   ]
  },
  {
   "cell_type": "code",
   "execution_count": 15,
   "metadata": {
    "scrolled": true
   },
   "outputs": [],
   "source": [
    "%matplotlib notebook\n",
    "\n",
    "import matplotlib\n",
    "from utils import load_obj, load_ply, load_binvox\n",
    "from utils import viz_mesh, viz_pc, viz_bv"
   ]
  },
  {
   "cell_type": "code",
   "execution_count": 16,
   "metadata": {},
   "outputs": [],
   "source": [
    "# STUDENT CODE START\n",
    "# viz mesh: chair_example.obj\n",
    "\n",
    "# STUDENT CODE END"
   ]
  },
  {
   "cell_type": "code",
   "execution_count": 17,
   "metadata": {},
   "outputs": [],
   "source": [
    "# STUDENT CODE START\n",
    "# viz pc: chair_example.ply\n",
    "\n",
    "# STUDENT CODE END"
   ]
  },
  {
   "cell_type": "code",
   "execution_count": 18,
   "metadata": {},
   "outputs": [],
   "source": [
    "# STUDENT CODE START\n",
    "# viz binvox: chair_example.binvox\n",
    "\n",
    "# STUDENT CODE END"
   ]
  },
  {
   "cell_type": "markdown",
   "metadata": {},
   "source": [
    "## (c)"
   ]
  },
  {
   "cell_type": "code",
   "execution_count": 19,
   "metadata": {},
   "outputs": [],
   "source": [
    "import trimesh\n",
    "from utils import load_obj\n",
    "\n",
    "# STUDENT CODE START\n",
    "# load chair_example2.obj and sample point cloud shapes using trimesh.sample.sample_surface_even\n",
    "\n",
    "# STUDENT CODE END"
   ]
  },
  {
   "cell_type": "markdown",
   "metadata": {},
   "source": [
    "## (d)"
   ]
  },
  {
   "cell_type": "code",
   "execution_count": 20,
   "metadata": {},
   "outputs": [],
   "source": [
    "import numpy as np\n",
    "from utils import load_obj, viz_mesh\n",
    "\n",
    "# STUDENT CODE START\n",
    "# load chair_example.obj\n",
    "\n",
    "# viz the original mesh\n",
    "\n",
    "# STUDENT CODE END"
   ]
  },
  {
   "cell_type": "code",
   "execution_count": 21,
   "metadata": {},
   "outputs": [],
   "source": [
    "# STUDENT CODE START\n",
    "# now rotate 45 degree along the up-direction (the y-axis)\n",
    "\n",
    "# viz the rotated mesh\n",
    "\n",
    "# STUDENT CODE END"
   ]
  },
  {
   "cell_type": "code",
   "execution_count": 22,
   "metadata": {},
   "outputs": [],
   "source": [
    "# STUDENT CODE START\n",
    "# re-load chair_example.obj\n",
    "\n",
    "# now double the scales along the x/z-axis \n",
    "\n",
    "# viz the scaled mesh\n",
    "\n",
    "# STUDENT CODE END"
   ]
  },
  {
   "cell_type": "code",
   "execution_count": 23,
   "metadata": {},
   "outputs": [],
   "source": [
    "import numpy as np\n",
    "from utils import load_ply, viz_pc\n",
    "\n",
    "# STUDENT CODE START\n",
    "# load chair_example.ply\n",
    "\n",
    "# viz the original pc\n",
    "\n",
    "# STUDENT CODE END"
   ]
  },
  {
   "cell_type": "code",
   "execution_count": 24,
   "metadata": {},
   "outputs": [],
   "source": [
    "# STUDENT CODE START\n",
    "# now rotate 45 degree along the up-direction (the y-axis)\n",
    "\n",
    "# viz the rotated pc\n",
    "\n",
    "# STUDENT CODE END"
   ]
  },
  {
   "cell_type": "code",
   "execution_count": 25,
   "metadata": {},
   "outputs": [],
   "source": [
    "# STUDENT CODE START\n",
    "# re-load chair_example.ply\n",
    "\n",
    "# now double the scales along the x/z-axis\n",
    "\n",
    "# viz the scaled pc\n",
    "\n",
    "# STUDENT CODE END"
   ]
  },
  {
   "cell_type": "markdown",
   "metadata": {},
   "source": [
    "## (e)"
   ]
  },
  {
   "cell_type": "code",
   "execution_count": 26,
   "metadata": {},
   "outputs": [],
   "source": [
    "import numpy as np\n",
    "from utils import load_binvox\n",
    "\n",
    "# STUDENT CODE START\n",
    "# load chair_example.bv and chair_example2.bv, both of resolution 32^3\n",
    "\n",
    "# compute the percentage of voxels have different values (the code should be easy)\n",
    "\n",
    "# STUDENT CODE END"
   ]
  },
  {
   "cell_type": "code",
   "execution_count": 28,
   "metadata": {},
   "outputs": [],
   "source": [
    "import numpy as np\n",
    "from utils import load_ply\n",
    "\n",
    "# STUDENT CODE START\n",
    "# load chair_example.ply and chair_example2.ply, both of point size 2000\n",
    "\n",
    "# compute the chamfer distance (a useful utility function: scipy.spatial.distance.cdist)\n",
    "\n",
    "# STUDENT CODE END"
   ]
  },
  {
   "cell_type": "code",
   "execution_count": null,
   "metadata": {},
   "outputs": [],
   "source": []
  }
 ],
 "metadata": {
  "kernelspec": {
   "display_name": "Python 3",
   "language": "python",
   "name": "python3"
  },
  "language_info": {
   "codemirror_mode": {
    "name": "ipython",
    "version": 3
   },
   "file_extension": ".py",
   "mimetype": "text/x-python",
   "name": "python",
   "nbconvert_exporter": "python",
   "pygments_lexer": "ipython3",
   "version": "3.6.9"
  }
 },
 "nbformat": 4,
 "nbformat_minor": 2
}
